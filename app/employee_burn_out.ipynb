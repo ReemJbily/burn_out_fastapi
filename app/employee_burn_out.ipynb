{
  "cells": [
    {
      "cell_type": "code",
      "execution_count": null,
      "metadata": {
        "id": "XsII823wcUkv"
      },
      "outputs": [],
      "source": [
        "import numpy as np\n",
        "import pandas as pd\n",
        "import matplotlib.pyplot as plt\n",
        "%matplotlib inline\n",
        "import seaborn as sns\n",
        "\n",
        "from sklearn.model_selection import train_test_split\n",
        "from sklearn.metrics import mean_squared_error\n",
        "\n",
        "\n",
        "from sklearn.preprocessing import StandardScaler\n",
        "\n",
        "import pickle\n",
        "from urllib.parse import urlparse\n",
        "\n",
        "from sklearn.ensemble import RandomForestRegressor\n",
        "import xgboost as xgb\n",
        "import catboost as cb\n",
        "import lightgbm as lgbm"
      ]
    },
    {
      "cell_type": "markdown",
      "metadata": {
        "id": "oAPtHPxZe7zA"
      },
      "source": [
        "# Read Data"
      ]
    },
    {
      "cell_type": "code",
      "execution_count": null,
      "metadata": {
        "id": "M5mGRDREeVOg"
      },
      "outputs": [],
      "source": [
        "train=pd.read_csv(r'D:/Users/user/mlops/work_burn_out/data/train.csv')\n",
        "test=pd.read_csv(r'D:/Users/user/mlops/work_burn_out/data/test.csv')"
      ]
    },
    {
      "cell_type": "markdown",
      "metadata": {
        "id": "SuW26lChe-P3"
      },
      "source": [
        "# Actions made to data"
      ]
    },
    {
      "cell_type": "code",
      "execution_count": null,
      "metadata": {},
      "outputs": [],
      "source": [
        "class Actions:\n",
        "    def __init__(self,data):\n",
        "        self.data=data        \n",
        "    def preprocess(self):\n",
        "        self.data.rename(columns={'WFH Setup Available': 'Remote','Resource Allocation':'Resource'}, inplace=True)\n",
        "        self.data.drop_duplicates(inplace=True)\n",
        "        self.data=self.data.drop('Employee ID',axis=1)\n",
        "        self.data=self.data.dropna()\n",
        "        return self.data\n",
        "    def encoding(self,data):\n",
        "        self.data=data\n",
        "        self.data['Gender'] = self.data['Gender'].replace({'Male': 1,'Female': 0})\n",
        "        self.data['Company Type'] = self.data['Company Type'].replace({'Service': 1, 'Product': 0})\n",
        "        self.data['Remote'] = self.data['Remote'].replace({'Yes': 1, 'No': 0})\n",
        "        return self.data"
      ]
    },
    {
      "cell_type": "markdown",
      "metadata": {
        "id": "NcWcMUNfvB1u"
      },
      "source": [
        "# Preprocessing\n",
        "**1. remove duplicates**\n",
        "\n",
        "**2. drop Employee ID**\n",
        "\n",
        "**3. rename columns**\n",
        "\n"
      ]
    },
    {
      "cell_type": "code",
      "execution_count": null,
      "metadata": {
        "id": "AlPEL3JztBC5"
      },
      "outputs": [],
      "source": [
        "actions_to_train_data=Actions(train)\n",
        "actions_to_test_data=Actions(test)\n",
        "\n",
        "train=actions_to_train_data.preprocess()\n",
        "test=actions_to_test_data.preprocess()"
      ]
    },
    {
      "cell_type": "markdown",
      "metadata": {
        "id": "z75ZjALT3GGl"
      },
      "source": [
        "# Encoding\n",
        "# **Categorical data:**\n",
        "Date of Joining, Gender, Company Type, WFH Setup Available\n",
        "# **Numerical data:**\n",
        "Designation, Resource Allocation, Mental Fatigue Score, Burn Rate"
      ]
    },
    {
      "cell_type": "code",
      "execution_count": 8,
      "metadata": {
        "id": "a778ANYryKwI"
      },
      "outputs": [],
      "source": [
        "train=actions_to_train_data.encoding(train)\n",
        "test=actions_to_test_data.encoding(test)"
      ]
    },
    {
      "cell_type": "code",
      "execution_count": null,
      "metadata": {
        "colab": {
          "base_uri": "https://localhost:8080/"
        },
        "id": "543OWNJAMmII",
        "outputId": "d0505126-bc61-46b3-feba-b1127cf0ab2c"
      },
      "outputs": [
        {
          "name": "stdout",
          "output_type": "stream",
          "text": [
            "2008-01-01 \n",
            "2008-12-31\n"
          ]
        }
      ],
      "source": [
        "print(train['Date of Joining'].min(),'\\n'+str(train['Date of Joining'].max()))"
      ]
    },
    {
      "cell_type": "code",
      "execution_count": 9,
      "metadata": {
        "id": "q3OuyyFc3H-G"
      },
      "outputs": [],
      "source": [
        "#difference between the time employee arrived and the time of the survay which is 2020 kis 4 years\n",
        "date=np.ones((len(train['Date of Joining']),1))\n",
        "train['Work Period']=date*12"
      ]
    },
    {
      "cell_type": "code",
      "execution_count": 10,
      "metadata": {
        "id": "zwPr58JvMrUY"
      },
      "outputs": [],
      "source": [
        "#no need for the date of joining column any more\n",
        "train=train.drop('Date of Joining',axis=1)"
      ]
    },
    {
      "cell_type": "markdown",
      "metadata": {
        "id": "FyeUMsWydhFz"
      },
      "source": [
        "# **Training**"
      ]
    },
    {
      "cell_type": "code",
      "execution_count": 11,
      "metadata": {
        "id": "tgkzI-Uzf6GJ"
      },
      "outputs": [],
      "source": [
        "X=train.drop('Burn Rate',axis=1)\n",
        "Y=train['Burn Rate']"
      ]
    },
    {
      "cell_type": "code",
      "execution_count": 12,
      "metadata": {
        "id": "qdTlPxfg-bxN"
      },
      "outputs": [],
      "source": [
        "x_train,x_test,y_train,y_test=train_test_split(X,Y,test_size=0.2,random_state=42)"
      ]
    }
  ],
  "metadata": {
    "accelerator": "GPU",
    "colab": {
      "collapsed_sections": [
        "Yx1jEO0NyP37"
      ],
      "gpuType": "T4",
      "provenance": []
    },
    "kernelspec": {
      "display_name": "Python 3",
      "name": "python3"
    },
    "language_info": {
      "codemirror_mode": {
        "name": "ipython",
        "version": 3
      },
      "file_extension": ".py",
      "mimetype": "text/x-python",
      "name": "python",
      "nbconvert_exporter": "python",
      "pygments_lexer": "ipython3",
      "version": "3.12.3"
    }
  },
  "nbformat": 4,
  "nbformat_minor": 0
}
